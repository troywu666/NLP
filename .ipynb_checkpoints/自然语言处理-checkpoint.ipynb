{
 "cells": [
  {
   "cell_type": "code",
   "execution_count": 1,
   "metadata": {
    "ExecuteTime": {
     "end_time": "2019-04-02T10:15:54.560739Z",
     "start_time": "2019-04-02T10:15:54.060319Z"
    }
   },
   "outputs": [
    {
     "name": "stdout",
     "output_type": "stream",
     "text": [
      "<_io.TextIOWrapper name='./hongloumeng.txt' mode='r' encoding='utf-8'>\n"
     ]
    }
   ],
   "source": [
    "import jieba\n",
    "import re\n",
    "from sklearn.preprocessing import LabelEncoder\n",
    "import numpy as np\n",
    "from collections import OrderedDict\n",
    "\n",
    "with open('./hongloumeng.txt',encoding='utf-8') as f:\n",
    "    print(f)"
   ]
  },
  {
   "cell_type": "code",
   "execution_count": 9,
   "metadata": {
    "ExecuteTime": {
     "end_time": "2019-04-02T10:20:47.829916Z",
     "start_time": "2019-04-02T10:20:47.800897Z"
    }
   },
   "outputs": [],
   "source": [
    "def cut_sentence(text):\n",
    "    start=0\n",
    "    i=0\n",
    "    sentences=[]\n",
    "    punt_string = '.?!;~。；？！～\\n'\n",
    "    for word in text :\n",
    "        if word in punt_string and token not in punt_string:\n",
    "            sentences.append(text[start:i+1])\n",
    "            start=i+1\n",
    "            i+=1\n",
    "        else:\n",
    "            i+=1\n",
    "            token=list(text[start:i+2]).pop()\n",
    "    if start<len(text):##如果一句话没有标点符号，就可以将没标点符号的句子读取出来\n",
    "        sentences.append(text[start:])\n",
    "    return sentences"
   ]
  },
  {
   "cell_type": "code",
   "execution_count": 12,
   "metadata": {
    "ExecuteTime": {
     "end_time": "2019-04-02T10:31:42.605100Z",
     "start_time": "2019-04-02T10:31:38.981079Z"
    }
   },
   "outputs": [
    {
     "name": "stdout",
     "output_type": "stream",
     "text": [
      "《红楼梦》曹雪芹\n",
      "\n",
      "\n",
      "严正声明：本书为丫丫小说网(www.\n",
      "shuyaya.\n",
      "com)的用户上传至其在本站的存储空间，本站只提供TXT全集电子书存储服务以及免费下载服务，以下作品内容之版权与本站无任何关系。\n",
      "\n",
      "在线阅读：http://www.\n",
      "shuyaya.\n",
      "com/read/2034/\n",
      "\n",
      "--------------------------------------------------\n",
      "\n",
      "\n",
      "第一回  甄士隐梦幻识通灵　贾雨村风尘怀闺秀\n",
      "\n",
      "\n",
      "    \t\t\n",
      "\n",
      "\n"
     ]
    }
   ],
   "source": [
    "f=open('./hongloumeng.txt','r',encoding='utf-8')\n",
    "text=f.read()\n",
    "sentences=cut_sentence(text)\n",
    "f.close()\n",
    "\n",
    "i=0\n",
    "while i<10:\n",
    "    print(sentences[i])\n",
    "    i+=1"
   ]
  },
  {
   "cell_type": "code",
   "execution_count": 16,
   "metadata": {
    "ExecuteTime": {
     "end_time": "2019-04-02T14:38:19.832221Z",
     "start_time": "2019-04-02T14:38:19.683549Z"
    }
   },
   "outputs": [],
   "source": [
    "filter_re=re.compile(u'[^\\u4E00-\\u9FA5]')##匹配非中文字符\n",
    "with open('./cleaned_hongloumeng.txt','w') as f:##   w模式是清空文件重写\n",
    "    for i in sentences:\n",
    "        clean_s=filter_re.sub(r'',i)\n",
    "        if len(clean_s):##如果一整行都是空值，则需要将空值去掉\n",
    "            f.write(clean_s+'\\n')"
   ]
  },
  {
   "cell_type": "code",
   "execution_count": 17,
   "metadata": {
    "ExecuteTime": {
     "end_time": "2019-04-02T15:01:55.503621Z",
     "start_time": "2019-04-02T15:01:55.396549Z"
    },
    "scrolled": true
   },
   "outputs": [
    {
     "name": "stdout",
     "output_type": "stream",
     "text": [
      "红楼梦曹雪芹\n",
      "严正声明本书为丫丫小说网\n",
      "的用户上传至其在本站的存储空间本站只提供全集电子书存储服务以及免费下载服务以下作品内容之版权与本站无任何关系\n",
      "在线阅读\n",
      "第一回甄士隐梦幻识通灵贾雨村风尘怀闺秀\n",
      "此开卷第一回也作者自云因曾历过一番梦幻之后故将真事隐去而借通灵之说撰此石头记一书也故曰甄士隐云云但书中所记何事何人\n",
      "自又云今风尘碌碌一事无成忽念及当日所有之女子一一细考较去觉其行止见识皆出于我之上何我堂堂须眉诚不若彼裙钗哉\n",
      "实愧则有余悔又无益之大无可如何之日也\n",
      "当此则自欲将已往所赖天恩祖德锦衣纨绔之时饫甘餍肥之日背父兄教育之恩负师友规谈之德以至今日一技无成半生潦倒之罪编述一集以告天下人我之罪固不免然闺阁中本自历历有人万不可因我之不肖自护己短一并使其泯灭也虽今日之茅椽蓬牖瓦灶绳床其晨夕风露阶柳庭花亦未有妨我之襟怀笔墨者虽我未学下笔无文又何妨用假语村言敷演出一段故事来亦可使闺阁昭传复可悦世之目破人愁闷不亦宜乎\n",
      "故曰贾雨村云云\n",
      "此回中凡用梦用幻等字是提醒阅者眼目亦是此书立意本旨\n",
      "列位看官你道此书从何而来\n",
      "说起根由虽近荒唐细按则深有趣味待在下将此来历注明方使阅者了然不惑\n",
      "原来女娲氏炼石补天之时于大荒山无稽崖练成高经十二丈方经二十四丈顽石三万六千五百零一块娲皇氏只用了三万六千五百块只单单剩了一块未用便弃在此山青埂峰下谁知此石自经煅炼之后灵性已通因见众石俱得补天独自己无材不堪入选遂自怨自叹日夜悲号惭愧\n",
      "一日正当嗟悼之际俄见一僧一道远远而来生得骨骼不凡丰神迥异说说笑笑来至峰下坐于石边高谈快论先是说些云山雾海神仙玄幻之事后便说到红尘中荣华富贵此石听了不觉打动凡心也想要到人间去享一享这荣华富贵但自恨粗蠢不得已便口吐人言向那僧道说道大师弟子蠢物不能见礼了适闻二位谈那人世间荣耀繁华心切慕之弟子质虽粗蠢性却稍通况见二师仙形道体定非凡品必有补天济世之材利物济人之德如蒙发一点慈心携带弟子得入红尘在那富贵场中温柔乡里受享几年自当永佩洪恩万劫不忘也\n",
      "二仙师听毕齐憨笑道善哉善哉\n",
      "那红尘中有却有些乐事但不能永远依恃况又有美中不足好事多魔八个字紧相连属瞬息间则又乐极悲生人非物换究竟是到头一梦万境归空倒不如不去的好\n",
      "这石凡心已炽那里听得进这话去乃复苦求再四二仙知不可强制乃叹道此亦静极怂级无中生有之数也既如此我们便携你去受享受享只是到不得意时切莫后悔\n",
      "石道自然自然\n",
      "那僧又道若说你性灵却又如此质蠢并更无奇贵之处如此也只好踮脚而已也罢我如今大施佛法助你助待劫终之日复还本质以了此案你道好否\n"
     ]
    }
   ],
   "source": [
    "cleaned_sentences=[]\n",
    "for i in sentences:\n",
    "    sen=filter_re.sub(r'',i)\n",
    "    if len(sen):\n",
    "        cleaned_sentences.append(sen)\n",
    "for i in cleaned_sentences[:20]:\n",
    "    print(i)"
   ]
  },
  {
   "cell_type": "code",
   "execution_count": 30,
   "metadata": {
    "ExecuteTime": {
     "end_time": "2019-04-02T15:46:04.282649Z",
     "start_time": "2019-04-02T15:45:54.067611Z"
    }
   },
   "outputs": [
    {
     "name": "stdout",
     "output_type": "stream",
     "text": [
      "红楼梦\n",
      "曹雪芹\n",
      "严正声明\n",
      "本书\n",
      "为\n",
      "丫丫\n",
      "小说网\n",
      "的\n",
      "用户\n",
      "上传\n",
      "至\n",
      "其\n",
      "在\n",
      "本站\n",
      "的\n",
      "存储空间\n",
      "本站\n",
      "只\n",
      "提供\n",
      "全集\n",
      "电子书\n",
      "存储\n",
      "服务\n",
      "以及\n",
      "免费\n",
      "下载\n",
      "服务\n",
      "以下\n",
      "作品\n",
      "内容\n",
      "之\n",
      "版权\n",
      "与\n",
      "本站\n",
      "无\n",
      "任何\n",
      "关系\n"
     ]
    }
   ],
   "source": [
    "cut_sentences=[list(jieba.cut(i)) for i in cleaned_sentences]\n",
    "for s in cut_sentences[:3]:\n",
    "    for w in s:\n",
    "        print(w)"
   ]
  },
  {
   "cell_type": "code",
   "execution_count": 20,
   "metadata": {
    "ExecuteTime": {
     "end_time": "2019-04-02T15:08:59.844512Z",
     "start_time": "2019-04-02T15:08:59.826498Z"
    }
   },
   "outputs": [
    {
     "data": {
      "text/plain": [
       "['红楼梦', '曹雪芹']"
      ]
     },
     "execution_count": 20,
     "metadata": {},
     "output_type": "execute_result"
    }
   ],
   "source": [
    "cut_sentences[0]"
   ]
  },
  {
   "cell_type": "code",
   "execution_count": 35,
   "metadata": {
    "ExecuteTime": {
     "end_time": "2019-04-02T15:54:18.010114Z",
     "start_time": "2019-04-02T15:54:17.975091Z"
    }
   },
   "outputs": [
    {
     "name": "stdout",
     "output_type": "stream",
     "text": [
      "的 用户\n",
      "用户 上传\n",
      "上传 至\n",
      "至 其\n",
      "其 在\n",
      "在 本站\n",
      "本站 的\n",
      "的 存储空间\n",
      "存储空间 本站\n",
      "本站 只\n",
      "只 提供\n",
      "提供 全集\n",
      "全集 电子书\n",
      "电子书 存储\n",
      "存储 服务\n",
      "服务 以及\n",
      "以及 免费\n",
      "免费 下载\n",
      "下载 服务\n",
      "服务 以下\n",
      "以下 作品\n",
      "作品 内容\n",
      "内容 之\n",
      "之 版权\n",
      "版权 与\n",
      "与 本站\n",
      "本站 无\n",
      "无 任何\n",
      "任何 关系\n",
      "的\n",
      "用户\n",
      "上传\n",
      "至\n",
      "其\n",
      "在\n",
      "本站\n",
      "的\n",
      "存储空间\n",
      "本站\n",
      "只\n",
      "提供\n",
      "全集\n",
      "电子书\n",
      "存储\n",
      "服务\n",
      "以及\n",
      "免费\n",
      "下载\n",
      "服务\n",
      "以下\n",
      "作品\n",
      "内容\n",
      "之\n",
      "版权\n",
      "与\n",
      "本站\n",
      "无\n",
      "任何\n",
      "关系\n"
     ]
    }
   ],
   "source": [
    "generate_ngrams=lambda sentences,n : zip(*[sentences[i:] for i in range(n)])\n",
    "for bigram in generate_ngrams(cut_sentences[2],2):\n",
    "    print(bigram[0],bigram[1])\n",
    "for unigram in generate_ngrams(cut_sentences[2],1):\n",
    "    print(unigram[0])"
   ]
  }
 ],
 "metadata": {
  "kernelspec": {
   "display_name": "tensorflow35",
   "language": "python",
   "name": "tensorflow35"
  },
  "language_info": {
   "codemirror_mode": {
    "name": "ipython",
    "version": 3
   },
   "file_extension": ".py",
   "mimetype": "text/x-python",
   "name": "python",
   "nbconvert_exporter": "python",
   "pygments_lexer": "ipython3",
   "version": "3.5.4"
  },
  "latex_envs": {
   "LaTeX_envs_menu_present": true,
   "autoclose": false,
   "autocomplete": true,
   "bibliofile": "biblio.bib",
   "cite_by": "apalike",
   "current_citInitial": 1,
   "eqLabelWithNumbers": true,
   "eqNumInitial": 1,
   "hotkeys": {
    "equation": "Ctrl-E",
    "itemize": "Ctrl-I"
   },
   "labels_anchors": false,
   "latex_user_defs": false,
   "report_style_numbering": false,
   "user_envs_cfg": false
  },
  "toc": {
   "base_numbering": 1,
   "nav_menu": {},
   "number_sections": true,
   "sideBar": true,
   "skip_h1_title": false,
   "title_cell": "Table of Contents",
   "title_sidebar": "Contents",
   "toc_cell": false,
   "toc_position": {},
   "toc_section_display": true,
   "toc_window_display": false
  },
  "varInspector": {
   "cols": {
    "lenName": 16,
    "lenType": 16,
    "lenVar": 40
   },
   "kernels_config": {
    "python": {
     "delete_cmd_postfix": "",
     "delete_cmd_prefix": "del ",
     "library": "var_list.py",
     "varRefreshCmd": "print(var_dic_list())"
    },
    "r": {
     "delete_cmd_postfix": ") ",
     "delete_cmd_prefix": "rm(",
     "library": "var_list.r",
     "varRefreshCmd": "cat(var_dic_list()) "
    }
   },
   "types_to_exclude": [
    "module",
    "function",
    "builtin_function_or_method",
    "instance",
    "_Feature"
   ],
   "window_display": false
  }
 },
 "nbformat": 4,
 "nbformat_minor": 2
}
